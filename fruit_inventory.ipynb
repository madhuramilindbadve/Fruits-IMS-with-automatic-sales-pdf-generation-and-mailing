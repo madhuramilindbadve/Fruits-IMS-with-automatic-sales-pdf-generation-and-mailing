{
  "nbformat": 4,
  "nbformat_minor": 0,
  "metadata": {
    "colab": {
      "name": "fruit_inventory.ipynb",
      "provenance": [],
      "collapsed_sections": []
    },
    "kernelspec": {
      "name": "python3",
      "display_name": "Python 3"
    },
    "language_info": {
      "name": "python"
    }
  },
  "cells": [
    {
      "cell_type": "code",
      "metadata": {
        "colab": {
          "base_uri": "https://localhost:8080/"
        },
        "id": "MDqw0r1XC-m9",
        "outputId": "4f071dc6-d89a-472e-89c8-0888002cc97f"
      },
      "source": [
        "from google.colab import drive\n",
        "drive.mount('/content/drive')"
      ],
      "execution_count": null,
      "outputs": [
        {
          "output_type": "stream",
          "name": "stdout",
          "text": [
            "Mounted at /content/drive\n"
          ]
        }
      ]
    },
    {
      "cell_type": "code",
      "metadata": {
        "id": "UXdQwrSpD5x6"
      },
      "source": [
        "import json\n",
        "import time"
      ],
      "execution_count": null,
      "outputs": []
    },
    {
      "cell_type": "code",
      "metadata": {
        "id": "TPTy3HyHDNQI"
      },
      "source": [
        "fd = open(\"/content/drive/MyDrive/email_project_files/fruits.json\",'r')\n",
        "r = fd.read()\n",
        "fd.close()\n",
        "\n",
        "record = json.loads(r)"
      ],
      "execution_count": null,
      "outputs": []
    },
    {
      "cell_type": "code",
      "metadata": {
        "colab": {
          "base_uri": "https://localhost:8080/"
        },
        "id": "pDNaAskUD9rD",
        "outputId": "bf21ccfe-e6f0-4269-82e8-799cbfc145f8"
      },
      "source": [
        "record"
      ],
      "execution_count": null,
      "outputs": [
        {
          "output_type": "execute_result",
          "data": {
            "text/plain": [
              "{'1001': {'name': 'Apple', 'pr': 25, 'qn': 100},\n",
              " '1002': {'name': 'Banana', 'pr': 10, 'qn': 100},\n",
              " '1003': {'name': 'Blueberry', 'pr': 35, 'qn': 100},\n",
              " '1004': {'name': 'Cherries', 'pr': 50, 'qn': 100},\n",
              " '1005': {'name': 'Coconut', 'pr': 20, 'qn': 100},\n",
              " '1006': {'name': 'Grapes', 'pr': 50, 'qn': 100},\n",
              " '1007': {'name': 'Orange', 'pr': 15, 'qn': 100},\n",
              " '1008': {'name': 'Lime', 'pr': 40, 'qn': 100},\n",
              " '1009': {'name': 'Peach', 'pr': 20, 'qn': 100},\n",
              " '1010': {'name': 'Pear', 'pr': 12, 'qn': 100},\n",
              " '1011': {'name': 'Strawberry', 'pr': 25, 'qn': 100},\n",
              " '1012': {'name': 'Watermelon', 'pr': 20, 'qn': 100},\n",
              " '1013': {'name': 'Papaya', 'pr': 10, 'qn': 100},\n",
              " '1014': {'name': 'Pomegranate', 'pr': 20, 'qn': 100},\n",
              " '1015': {'name': 'Raspberry', 'pr': 20, 'qn': 100},\n",
              " '1016': {'name': 'Mango', 'pr': 40, 'qn': 100},\n",
              " '1017': {'name': 'Kiwi', 'pr': 15, 'qn': 100},\n",
              " '1018': {'name': 'Avacado', 'pr': 20, 'qn': 100},\n",
              " '1019': {'name': 'Apricot', 'pr': 14, 'qn': 100},\n",
              " '1020': {'name': 'Pineapple', 'pr': 20, 'qn': 100}}"
            ]
          },
          "metadata": {},
          "execution_count": 5
        }
      ]
    },
    {
      "cell_type": "markdown",
      "metadata": {
        "id": "g6-ZeXo8EL3N"
      },
      "source": [
        "##Adding new item to the inventory"
      ]
    },
    {
      "cell_type": "code",
      "metadata": {
        "colab": {
          "base_uri": "https://localhost:8080/"
        },
        "id": "l-6dOIpyERbn",
        "outputId": "1b5ef4a5-d5e5-4ff5-a0f2-90a0398598fb"
      },
      "source": [
        "id = str(input(\"Enter fruit id:\"))\n",
        "name = str(input(\"Enter name:\"))\n",
        "pr = int(input(\"Enter price:\"))\n",
        "qn = int(input(\"Enter quantity:\"))\n",
        "\n",
        "record[id] = {'name': name, 'pr': pr, 'qn': qn}\n",
        "\n",
        "js = json.dumps(record)\n",
        "\n",
        "fd = open(\"record.json\",'w')\n",
        "fd.write(js)\n",
        "fd.close()"
      ],
      "execution_count": null,
      "outputs": [
        {
          "name": "stdout",
          "output_type": "stream",
          "text": [
            "Enter fruit id:1021\n",
            "Enter name:Blackberry\n",
            "Enter price:25\n",
            "Enter quantity:100\n"
          ]
        }
      ]
    },
    {
      "cell_type": "code",
      "metadata": {
        "colab": {
          "base_uri": "https://localhost:8080/"
        },
        "id": "mt9cpHXLEyFB",
        "outputId": "6a99720c-8771-4ee7-82f2-e30ae396164e"
      },
      "source": [
        "record"
      ],
      "execution_count": null,
      "outputs": [
        {
          "output_type": "execute_result",
          "data": {
            "text/plain": [
              "{'1001': {'name': 'Apple', 'pr': 25, 'qn': 100},\n",
              " '1002': {'name': 'Banana', 'pr': 10, 'qn': 100},\n",
              " '1003': {'name': 'Blueberry', 'pr': 35, 'qn': 100},\n",
              " '1004': {'name': 'Cherries', 'pr': 50, 'qn': 100},\n",
              " '1005': {'name': 'Coconut', 'pr': 20, 'qn': 100},\n",
              " '1006': {'name': 'Grapes', 'pr': 50, 'qn': 100},\n",
              " '1007': {'name': 'Orange', 'pr': 15, 'qn': 100},\n",
              " '1008': {'name': 'Lime', 'pr': 40, 'qn': 100},\n",
              " '1009': {'name': 'Peach', 'pr': 20, 'qn': 100},\n",
              " '1010': {'name': 'Pear', 'pr': 12, 'qn': 100},\n",
              " '1011': {'name': 'Strawberry', 'pr': 25, 'qn': 100},\n",
              " '1012': {'name': 'Watermelon', 'pr': 20, 'qn': 100},\n",
              " '1013': {'name': 'Papaya', 'pr': 10, 'qn': 100},\n",
              " '1014': {'name': 'Pomegranate', 'pr': 20, 'qn': 100},\n",
              " '1015': {'name': 'Raspberry', 'pr': 20, 'qn': 100},\n",
              " '1016': {'name': 'Mango', 'pr': 40, 'qn': 100},\n",
              " '1017': {'name': 'Kiwi', 'pr': 15, 'qn': 100},\n",
              " '1018': {'name': 'Avacado', 'pr': 20, 'qn': 100},\n",
              " '1019': {'name': 'Apricot', 'pr': 14, 'qn': 100},\n",
              " '1020': {'name': 'Pineapple', 'pr': 20, 'qn': 100},\n",
              " '1021': {'name': 'Blackberry', 'pr': 25, 'qn': 100}}"
            ]
          },
          "metadata": {},
          "execution_count": 8
        }
      ]
    },
    {
      "cell_type": "code",
      "metadata": {
        "id": "OUtJw1FWEznS"
      },
      "source": [
        "del record['1021']"
      ],
      "execution_count": null,
      "outputs": []
    },
    {
      "cell_type": "code",
      "metadata": {
        "colab": {
          "base_uri": "https://localhost:8080/"
        },
        "id": "3yW6J5P9E-eF",
        "outputId": "bdf587cf-4544-4736-b713-55f707d0c595"
      },
      "source": [
        "record"
      ],
      "execution_count": null,
      "outputs": [
        {
          "output_type": "execute_result",
          "data": {
            "text/plain": [
              "{'1001': {'name': 'Apple', 'pr': 25, 'qn': 100},\n",
              " '1002': {'name': 'Banana', 'pr': 10, 'qn': 100},\n",
              " '1003': {'name': 'Blueberry', 'pr': 35, 'qn': 100},\n",
              " '1004': {'name': 'Cherries', 'pr': 50, 'qn': 100},\n",
              " '1005': {'name': 'Coconut', 'pr': 20, 'qn': 100},\n",
              " '1006': {'name': 'Grapes', 'pr': 50, 'qn': 100},\n",
              " '1007': {'name': 'Orange', 'pr': 15, 'qn': 100},\n",
              " '1008': {'name': 'Lime', 'pr': 40, 'qn': 100},\n",
              " '1009': {'name': 'Peach', 'pr': 20, 'qn': 100},\n",
              " '1010': {'name': 'Pear', 'pr': 12, 'qn': 100},\n",
              " '1011': {'name': 'Strawberry', 'pr': 25, 'qn': 100},\n",
              " '1012': {'name': 'Watermelon', 'pr': 20, 'qn': 100},\n",
              " '1013': {'name': 'Papaya', 'pr': 10, 'qn': 100},\n",
              " '1014': {'name': 'Pomegranate', 'pr': 20, 'qn': 100},\n",
              " '1015': {'name': 'Raspberry', 'pr': 20, 'qn': 100},\n",
              " '1016': {'name': 'Mango', 'pr': 40, 'qn': 100},\n",
              " '1017': {'name': 'Kiwi', 'pr': 15, 'qn': 100},\n",
              " '1018': {'name': 'Avacado', 'pr': 20, 'qn': 100},\n",
              " '1019': {'name': 'Apricot', 'pr': 14, 'qn': 100},\n",
              " '1020': {'name': 'Pineapple', 'pr': 20, 'qn': 100}}"
            ]
          },
          "metadata": {},
          "execution_count": 10
        }
      ]
    },
    {
      "cell_type": "markdown",
      "metadata": {
        "id": "x8U6UDGNFyT8"
      },
      "source": [
        "##Generating sales\n"
      ]
    },
    {
      "cell_type": "code",
      "metadata": {
        "id": "MHu8Na6-F4dk"
      },
      "source": [
        "fd = open('/content/drive/MyDrive/email_project_files/fruits.json', 'r')\n",
        "t = fd.read()\n",
        "fd.close()\n",
        "\n",
        "fd = open('record.json','w')\n",
        "fd.write(t)\n",
        "fd.close()\n",
        "\n",
        "sales = {}\n",
        "\n",
        "sales = json.dumps(sales)\n",
        "\n",
        "fd = open(\"/content/drive/MyDrive/email_project_files/sales.json\", 'w')\n",
        "fd.write(sales)\n",
        "fd.close()"
      ],
      "execution_count": null,
      "outputs": []
    },
    {
      "cell_type": "code",
      "metadata": {
        "colab": {
          "base_uri": "https://localhost:8080/"
        },
        "id": "g-U0L7F1GgPV",
        "outputId": "4afb0d22-2661-4542-eada-1a1961b4b355"
      },
      "source": [
        "# Loading Inventory and Converting it to Dictionary\n",
        "fd = open('/content/drive/MyDrive/email_project_files/fruits.json','r')\n",
        "t = fd.read()\n",
        "fd.close()\n",
        "dct = json.loads(t)\n",
        "\n",
        "# Loading Sales and Converting it to Dictionary\n",
        "fd = open(\"/content/drive/MyDrive/email_project_files/sales.json\", 'r')\n",
        "sl = fd.read()\n",
        "fd.close()\n",
        "sales = json.loads(sl)\n",
        "\n",
        "\n",
        "# Displaying Menu\n",
        "print(\"**********************************************\")\n",
        "for i in dct.keys():\n",
        "  print(i, dct[i])\n",
        "\n",
        "print(\"******************************************\\n\")\n",
        "\n",
        "# Taking Input from User to Enter what he/she wants to purchase\n",
        "ui_prod  = str(input(\"Enter the product_Id: \"))\n",
        "ui_quant = int(input(\"Enter the quantity: \"))\n",
        "\n",
        "\n",
        "if (ui_prod in dct.keys()):                                                     # Checking If product Exists or not\n",
        "    if (dct[ui_prod]['qn'] >= ui_quant):                                        # If I'm having enough Quantity\n",
        "      print(\"Name:\",dct[ui_prod]['name'])\n",
        "      print(\"Price:\",dct[ui_prod]['pr'])\n",
        "      print(\"Quantity:\", ui_quant)\n",
        "      print(\"------------------------------\")\n",
        "      print(\"Billing Amount:\", dct[ui_prod]['pr'] * ui_quant)\n",
        "\n",
        "      dct[ui_prod]['qn'] = dct[ui_prod]['qn'] - ui_quant                        # Updating Inventory\n",
        "\n",
        "      sales[str(len(sales)+1)] = {'prod_id' : ui_prod,                          # Updating Transection\n",
        "                                  \"time_pr\" :  time.ctime(), \n",
        "                                  'bill' : dct[ui_prod]['pr'] * ui_quant, \n",
        "                                  'qn' : ui_quant, \n",
        "                                  'pr' : dct[ui_prod]['pr'], \n",
        "                                  'pr_name' : dct[ui_prod]['name']}\n",
        "\n",
        "\n",
        "    else:                                                                       # If I'm not having enough Quantity\n",
        "      print(\"Sorry, We are not having that much of quantity.\")\n",
        "      print(\"We're only having\",dct[ui_prod]['qn'],\"quantity.\")\n",
        "      print(\"Would you like to purchase or not (Y/N)\")\n",
        "      ch = str(input(\"Y/N\"))\n",
        "\n",
        "      if (ch == \"Y\"):                                                           # If user wants to purchase the quantitry we're having\n",
        "        print(\"Name:\",dct[ui_prod]['name'])\n",
        "        print(\"Price:\",dct[ui_prod]['pr'])\n",
        "        print(\"Quantity:\", dct[ui_prod]['qn'])\n",
        "        print(\"------------------------------\")\n",
        "        print(\"Billing Amount:\", dct[ui_prod]['pr'] * dct[ui_prod]['qn'])\n",
        "\n",
        "        dct[ui_prod]['qn'] = 0                                                  # Updating Inventory\n",
        "\n",
        "        sales[str(len(sales)+1)] = {'prod_id' : ui_prod,                        # Updating Transection\n",
        "                                    \"time_pr\" :  time.ctime(), \n",
        "                                    'bill' : dct[ui_prod]['pr'] * dct[ui_prod]['qn'], \n",
        "                                    'qn' : dct[ui_prod]['qn'], \n",
        "                                    'pr' : dct[ui_prod]['pr'], \n",
        "                                    'pr_name' : dct[ui_prod]['name']}\n",
        "\n",
        "      else:                                                                     # If user press anything Except Y\n",
        "        print(\"Thankyou!\")\n",
        "\n",
        "else:                                                                           # Product ID Doesn't exists\n",
        "  print(\"------------------------------\")\n",
        "  print(\"Product doesn't exist!\")\n",
        "  print(\"Please enter a valid product id\")\n",
        "  print(\"------------------------------\")\n",
        "\n",
        "\n",
        "\n",
        "sl = json.dumps(sales)                                                          # Updating Sales File\n",
        "fd = open('/content/drive/MyDrive/email_project_files/sales.json','w')\n",
        "fd.write(sl)\n",
        "fd.close()\n",
        "\n",
        "print(\"------------------------------\")\n",
        "print(\"Data Updated in Sales File!\")\n",
        "\n",
        "js = json.dumps(dct)                                                            # Updating Inventory File\n",
        "fd = open('/content/drive/MyDrive/email_project_files/fruits.json','w')\n",
        "fd.write(js)\n",
        "fd.close()\n",
        "\n",
        "print(\"Data Updated in Inventory File!\")"
      ],
      "execution_count": null,
      "outputs": [
        {
          "output_type": "stream",
          "name": "stdout",
          "text": [
            "**********************************************\n",
            "1001 {'name': 'Apple', 'pr': 25, 'qn': 100}\n",
            "1002 {'name': 'Banana', 'pr': 10, 'qn': 100}\n",
            "1003 {'name': 'Blueberry', 'pr': 35, 'qn': 100}\n",
            "1004 {'name': 'Cherries', 'pr': 50, 'qn': 100}\n",
            "1005 {'name': 'Coconut', 'pr': 20, 'qn': 100}\n",
            "1006 {'name': 'Grapes', 'pr': 50, 'qn': 100}\n",
            "1007 {'name': 'Orange', 'pr': 15, 'qn': 100}\n",
            "1008 {'name': 'Lime', 'pr': 40, 'qn': 100}\n",
            "1009 {'name': 'Peach', 'pr': 20, 'qn': 100}\n",
            "1010 {'name': 'Pear', 'pr': 12, 'qn': 100}\n",
            "1011 {'name': 'Strawberry', 'pr': 25, 'qn': 100}\n",
            "1012 {'name': 'Watermelon', 'pr': 20, 'qn': 100}\n",
            "1013 {'name': 'Papaya', 'pr': 10, 'qn': 95}\n",
            "1014 {'name': 'Pomegranate', 'pr': 20, 'qn': 100}\n",
            "1015 {'name': 'Raspberry', 'pr': 20, 'qn': 100}\n",
            "1016 {'name': 'Mango', 'pr': 40, 'qn': 100}\n",
            "1017 {'name': 'Kiwi', 'pr': 15, 'qn': 100}\n",
            "1018 {'name': 'Avacado', 'pr': 20, 'qn': 100}\n",
            "1019 {'name': 'Apricot', 'pr': 14, 'qn': 100}\n",
            "1020 {'name': 'Pineapple', 'pr': 20, 'qn': 100}\n",
            "******************************************\n",
            "\n",
            "Enter the product_Id: 1001\n",
            "Enter the quantity: 30\n",
            "Name: Apple\n",
            "Price: 25\n",
            "Quantity: 30\n",
            "------------------------------\n",
            "Billing Amount: 750\n",
            "------------------------------\n",
            "Data Updated in Sales File!\n",
            "Data Updated in Inventory File!\n"
          ]
        }
      ]
    },
    {
      "cell_type": "code",
      "metadata": {
        "colab": {
          "base_uri": "https://localhost:8080/"
        },
        "id": "mHchms04WIwe",
        "outputId": "51bae4a4-e538-4047-ae18-4f57f38d2408"
      },
      "source": [
        "dct"
      ],
      "execution_count": null,
      "outputs": [
        {
          "output_type": "execute_result",
          "data": {
            "text/plain": [
              "{'1001': {'name': 'Apple', 'pr': 25, 'qn': 70},\n",
              " '1002': {'name': 'Banana', 'pr': 10, 'qn': 100},\n",
              " '1003': {'name': 'Blueberry', 'pr': 35, 'qn': 100},\n",
              " '1004': {'name': 'Cherries', 'pr': 50, 'qn': 100},\n",
              " '1005': {'name': 'Coconut', 'pr': 20, 'qn': 100},\n",
              " '1006': {'name': 'Grapes', 'pr': 50, 'qn': 100},\n",
              " '1007': {'name': 'Orange', 'pr': 15, 'qn': 100},\n",
              " '1008': {'name': 'Lime', 'pr': 40, 'qn': 100},\n",
              " '1009': {'name': 'Peach', 'pr': 20, 'qn': 100},\n",
              " '1010': {'name': 'Pear', 'pr': 12, 'qn': 100},\n",
              " '1011': {'name': 'Strawberry', 'pr': 25, 'qn': 100},\n",
              " '1012': {'name': 'Watermelon', 'pr': 20, 'qn': 100},\n",
              " '1013': {'name': 'Papaya', 'pr': 10, 'qn': 95},\n",
              " '1014': {'name': 'Pomegranate', 'pr': 20, 'qn': 100},\n",
              " '1015': {'name': 'Raspberry', 'pr': 20, 'qn': 100},\n",
              " '1016': {'name': 'Mango', 'pr': 40, 'qn': 100},\n",
              " '1017': {'name': 'Kiwi', 'pr': 15, 'qn': 100},\n",
              " '1018': {'name': 'Avacado', 'pr': 20, 'qn': 100},\n",
              " '1019': {'name': 'Apricot', 'pr': 14, 'qn': 100},\n",
              " '1020': {'name': 'Pineapple', 'pr': 20, 'qn': 100}}"
            ]
          },
          "metadata": {},
          "execution_count": 20
        }
      ]
    },
    {
      "cell_type": "code",
      "metadata": {
        "colab": {
          "base_uri": "https://localhost:8080/"
        },
        "id": "pNDXt61_WKLg",
        "outputId": "0138b678-07b2-410f-8a9f-6753eeabdcad"
      },
      "source": [
        "sales"
      ],
      "execution_count": null,
      "outputs": [
        {
          "output_type": "execute_result",
          "data": {
            "text/plain": [
              "{'1': {'bill': 50,\n",
              "  'pr': 10,\n",
              "  'pr_name': 'Papaya',\n",
              "  'prod_id': '1013',\n",
              "  'qn': 5,\n",
              "  'time_pr': 'Wed Sep 22 11:53:46 2021'},\n",
              " '2': {'bill': 750,\n",
              "  'pr': 25,\n",
              "  'pr_name': 'Apple',\n",
              "  'prod_id': '1001',\n",
              "  'qn': 30,\n",
              "  'time_pr': 'Wed Sep 22 11:55:03 2021'}}"
            ]
          },
          "metadata": {},
          "execution_count": 21
        }
      ]
    },
    {
      "cell_type": "markdown",
      "metadata": {
        "id": "1UPf2ye9YBsD"
      },
      "source": [
        "##Generating pdf for sales"
      ]
    },
    {
      "cell_type": "code",
      "metadata": {
        "colab": {
          "base_uri": "https://localhost:8080/"
        },
        "id": "UrVoPrHPYNl0",
        "outputId": "ffc2f781-78ce-4028-95f5-cbb73a17c3d0"
      },
      "source": [
        "!pip install reportlab"
      ],
      "execution_count": null,
      "outputs": [
        {
          "output_type": "stream",
          "name": "stdout",
          "text": [
            "Collecting reportlab\n",
            "  Downloading reportlab-3.6.1-cp37-cp37m-manylinux_2_12_x86_64.manylinux2010_x86_64.whl (2.6 MB)\n",
            "\u001b[K     |████████████████████████████████| 2.6 MB 8.5 MB/s \n",
            "\u001b[?25hRequirement already satisfied: pillow>=4.0.0 in /usr/local/lib/python3.7/dist-packages (from reportlab) (7.1.2)\n",
            "Installing collected packages: reportlab\n",
            "Successfully installed reportlab-3.6.1\n"
          ]
        }
      ]
    },
    {
      "cell_type": "code",
      "metadata": {
        "id": "ixgpNzXGYFvX"
      },
      "source": [
        "from reportlab.platypus import SimpleDocTemplate\n",
        "report = SimpleDocTemplate(\"/content/drive/MyDrive/email_project_files/report.pdf\")"
      ],
      "execution_count": null,
      "outputs": []
    },
    {
      "cell_type": "code",
      "metadata": {
        "id": "ceITKBqeYcUj"
      },
      "source": [
        "from reportlab.platypus import Paragraph, Spacer, Table, Image"
      ],
      "execution_count": null,
      "outputs": []
    },
    {
      "cell_type": "code",
      "metadata": {
        "id": "nWAsEvnMYgxK"
      },
      "source": [
        "from reportlab.lib.styles import getSampleStyleSheet\n",
        "styles = getSampleStyleSheet()"
      ],
      "execution_count": null,
      "outputs": []
    },
    {
      "cell_type": "code",
      "metadata": {
        "id": "avjLKFLGYhRi"
      },
      "source": [
        "report_title = Paragraph(\"Sales of fruits\", styles[\"h1\"])"
      ],
      "execution_count": null,
      "outputs": []
    },
    {
      "cell_type": "code",
      "metadata": {
        "id": "kRtrDWHeYrJT"
      },
      "source": [
        "report.build([report_title])"
      ],
      "execution_count": null,
      "outputs": []
    },
    {
      "cell_type": "code",
      "metadata": {
        "colab": {
          "base_uri": "https://localhost:8080/"
        },
        "id": "NdtrEB_8ZLun",
        "outputId": "60be2199-25ce-4d3c-a275-d1c82a9e2357"
      },
      "source": [
        "sales"
      ],
      "execution_count": null,
      "outputs": [
        {
          "output_type": "execute_result",
          "data": {
            "text/plain": [
              "{'1': {'bill': 50,\n",
              "  'pr': 10,\n",
              "  'pr_name': 'Papaya',\n",
              "  'prod_id': '1013',\n",
              "  'qn': 5,\n",
              "  'time_pr': 'Wed Sep 22 11:53:46 2021'},\n",
              " '2': {'bill': 750,\n",
              "  'pr': 25,\n",
              "  'pr_name': 'Apple',\n",
              "  'prod_id': '1001',\n",
              "  'qn': 30,\n",
              "  'time_pr': 'Wed Sep 22 11:55:03 2021'}}"
            ]
          },
          "metadata": {},
          "execution_count": 30
        }
      ]
    },
    {
      "cell_type": "code",
      "metadata": {
        "colab": {
          "base_uri": "https://localhost:8080/"
        },
        "id": "oq3x9yrfYtl_",
        "outputId": "a9cf20df-614a-4156-a2c0-b5cb2371d267"
      },
      "source": [
        "#adding items to table from sales dictionary\n",
        "table_data = []\n",
        "table_data = [['Fruit name','Quantity','Price','Bill','Time']]\n",
        "\n",
        "for k,v in sales.items():\n",
        "  table_data.append([v['pr_name'],v['qn'],v['pr'],v['bill'],v['time_pr']])\n",
        "\n",
        "print(table_data)"
      ],
      "execution_count": null,
      "outputs": [
        {
          "output_type": "stream",
          "name": "stdout",
          "text": [
            "[['Fruit name', 'Quantity', 'Price', 'Bill', 'Time'], ['Papaya', 5, 10, 50, 'Wed Sep 22 11:53:46 2021'], ['Apple', 30, 25, 750, 'Wed Sep 22 11:55:03 2021']]\n"
          ]
        }
      ]
    },
    {
      "cell_type": "code",
      "metadata": {
        "id": "i9dBTuR1fRtC"
      },
      "source": [
        "report_table = Table(data=table_data)\n",
        "report.build([report_title, report_table])"
      ],
      "execution_count": null,
      "outputs": []
    },
    {
      "cell_type": "code",
      "metadata": {
        "id": "uazwD0P_fbxn"
      },
      "source": [
        "from reportlab.lib import colors\n",
        "table_style = [('GRID',(0,0), (-1,-1), 1, colors.black)]\n",
        "report_table = Table(data=table_data, style=table_style, hAlign=\"LEFT\")\n",
        "report.build([report_title, report_table])"
      ],
      "execution_count": null,
      "outputs": []
    },
    {
      "cell_type": "markdown",
      "metadata": {
        "id": "rUjkHZdGf13b"
      },
      "source": [
        "##Sending sales report file to owners email"
      ]
    },
    {
      "cell_type": "code",
      "metadata": {
        "colab": {
          "base_uri": "https://localhost:8080/"
        },
        "id": "XCJr95tqfcVf",
        "outputId": "06fdec21-aff9-44d6-9b9f-4352d56acdd5"
      },
      "source": [
        "from email.message import EmailMessage\n",
        "message = EmailMessage()\n",
        "sender = 'maisie13brown@gmail.com'\n",
        "recipient = 'eeveebpython@gmail.com'\n",
        "message['From'] = sender\n",
        "message['To'] = recipient\n",
        "\n",
        "message['Subject'] = 'Greetings from {} to {}!'.format(sender, recipient)\n",
        "\n",
        "body = \"\"\"Hey there!\n",
        "\n",
        "Todays Fruit sales report\"\"\"\n",
        "message.set_content(body)\n",
        "print(message)\n",
        "\n",
        "import os.path\n",
        "attachment_path = '/content/drive/MyDrive/email_project_files/report.pdf'\n",
        "attachment_filename = os.path.basename(attachment_path)\n",
        "import mimetypes\n",
        "mime_type, _ = mimetypes.guess_type(attachment_path)\n",
        "mime_type, mime_subtype = mime_type.split('/',1)\n",
        "print(mime_type)\n",
        "print(mime_subtype)\n",
        "\n",
        "with open(attachment_path, 'rb') as ap:\n",
        "  message.add_attachment(ap.read(),\n",
        "                            maintype=mime_type,\n",
        "                            subtype=mime_subtype,\n",
        "                           filename=os.path.basename(attachment_path))\n",
        "\n",
        "#print(message) \n",
        "\n",
        "\n",
        "import smtplib\n",
        "mail_server = smtplib.SMTP_SSL('smtp.gmail.com')\n",
        "\n",
        "mail_server.set_debuglevel(1)\n",
        "\n",
        "import getpass\n",
        "mail_pass = getpass.getpass('Password? ')\n",
        "\n",
        "mail_server.login(sender, mail_pass)\n",
        "\n",
        "mail_server.send_message(message)\n",
        "\n",
        "mail_server.quit()\n",
        "\n",
        "print(\"Email sent successfully\")"
      ],
      "execution_count": null,
      "outputs": [
        {
          "name": "stdout",
          "output_type": "stream",
          "text": [
            "From: maisie13brown@gmail.com\n",
            "To: eeveebpython@gmail.com\n",
            "Subject: Greetings from maisie13brown@gmail.com to eeveebpython@gmail.com!\n",
            "Content-Type: text/plain; charset=\"utf-8\"\n",
            "Content-Transfer-Encoding: 7bit\n",
            "MIME-Version: 1.0\n",
            "\n",
            "Hey there!\n",
            "\n",
            "Todays Fruit sales report\n",
            "\n",
            "application\n",
            "pdf\n",
            "Password? ··········\n"
          ]
        },
        {
          "output_type": "stream",
          "name": "stderr",
          "text": [
            "send: 'ehlo [172.28.0.2]\\r\\n'\n",
            "reply: b'250-smtp.gmail.com at your service, [34.125.113.101]\\r\\n'\n",
            "reply: b'250-SIZE 35882577\\r\\n'\n",
            "reply: b'250-8BITMIME\\r\\n'\n",
            "reply: b'250-AUTH LOGIN PLAIN XOAUTH2 PLAIN-CLIENTTOKEN OAUTHBEARER XOAUTH\\r\\n'\n",
            "reply: b'250-ENHANCEDSTATUSCODES\\r\\n'\n",
            "reply: b'250-PIPELINING\\r\\n'\n",
            "reply: b'250-CHUNKING\\r\\n'\n",
            "reply: b'250 SMTPUTF8\\r\\n'\n",
            "reply: retcode (250); Msg: b'smtp.gmail.com at your service, [34.125.113.101]\\nSIZE 35882577\\n8BITMIME\\nAUTH LOGIN PLAIN XOAUTH2 PLAIN-CLIENTTOKEN OAUTHBEARER XOAUTH\\nENHANCEDSTATUSCODES\\nPIPELINING\\nCHUNKING\\nSMTPUTF8'\n",
            "send: 'AUTH PLAIN AG1haXNpZTEzYnJvd25AZ21haWwuY29tAEppbWluIzA2MTM=\\r\\n'\n",
            "reply: b'235 2.7.0 Accepted\\r\\n'\n",
            "reply: retcode (235); Msg: b'2.7.0 Accepted'\n",
            "send: 'mail FROM:<maisie13brown@gmail.com> size=3236\\r\\n'\n",
            "reply: b'250 2.1.0 OK h7sm2256980pjj.42 - gsmtp\\r\\n'\n",
            "reply: retcode (250); Msg: b'2.1.0 OK h7sm2256980pjj.42 - gsmtp'\n",
            "send: 'rcpt TO:<eeveebpython@gmail.com>\\r\\n'\n",
            "reply: b'250 2.1.5 OK h7sm2256980pjj.42 - gsmtp\\r\\n'\n",
            "reply: retcode (250); Msg: b'2.1.5 OK h7sm2256980pjj.42 - gsmtp'\n",
            "send: 'data\\r\\n'\n",
            "reply: b'354  Go ahead h7sm2256980pjj.42 - gsmtp\\r\\n'\n",
            "reply: retcode (354); Msg: b'Go ahead h7sm2256980pjj.42 - gsmtp'\n",
            "data: (354, b'Go ahead h7sm2256980pjj.42 - gsmtp')\n",
            "send: b'From: maisie13brown@gmail.com\\r\\nTo: eeveebpython@gmail.com\\r\\nSubject: Greetings from maisie13brown@gmail.com to eeveebpython@gmail.com!\\r\\nMIME-Version: 1.0\\r\\nContent-Type: multipart/mixed; boundary=\"===============3872438704146203324==\"\\r\\n\\r\\n--===============3872438704146203324==\\r\\nContent-Type: text/plain; charset=\"utf-8\"\\r\\nContent-Transfer-Encoding: 7bit\\r\\n\\r\\nHey there!\\r\\n\\r\\nTodays Fruit sales report\\r\\n\\r\\n--===============3872438704146203324==\\r\\nContent-Type: application/pdf\\r\\nContent-Transfer-Encoding: base64\\r\\nContent-Disposition: attachment; filename=\"report.pdf\"\\r\\nMIME-Version: 1.0\\r\\n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\\r\\nOQo+PgpzdGFydHhyZWYKMTUwMgolJUVPRgo=\\r\\n\\r\\n--===============3872438704146203324==--\\r\\n.\\r\\n'\n"
          ]
        },
        {
          "output_type": "stream",
          "name": "stdout",
          "text": [
            "Email sent successfully\n"
          ]
        },
        {
          "output_type": "stream",
          "name": "stderr",
          "text": [
            "reply: b'250 2.0.0 OK  1632314229 h7sm2256980pjj.42 - gsmtp\\r\\n'\n",
            "reply: retcode (250); Msg: b'2.0.0 OK  1632314229 h7sm2256980pjj.42 - gsmtp'\n",
            "data: (250, b'2.0.0 OK  1632314229 h7sm2256980pjj.42 - gsmtp')\n",
            "send: 'quit\\r\\n'\n",
            "reply: b'221 2.0.0 closing connection h7sm2256980pjj.42 - gsmtp\\r\\n'\n",
            "reply: retcode (221); Msg: b'2.0.0 closing connection h7sm2256980pjj.42 - gsmtp'\n"
          ]
        }
      ]
    }
  ]
}